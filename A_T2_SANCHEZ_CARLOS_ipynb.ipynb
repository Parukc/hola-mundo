{
  "nbformat": 4,
  "nbformat_minor": 0,
  "metadata": {
    "colab": {
      "provenance": [],
      "authorship_tag": "ABX9TyPzVjW8Sr421GFuM2B5khrR",
      "include_colab_link": true
    },
    "kernelspec": {
      "name": "python3",
      "display_name": "Python 3"
    },
    "language_info": {
      "name": "python"
    }
  },
  "cells": [
    {
      "cell_type": "markdown",
      "metadata": {
        "id": "view-in-github",
        "colab_type": "text"
      },
      "source": [
        "<a href=\"https://colab.research.google.com/github/Parukc/hola-mundo/blob/main/A_T2_SANCHEZ_CARLOS_ipynb.ipynb\" target=\"_parent\"><img src=\"https://colab.research.google.com/assets/colab-badge.svg\" alt=\"Open In Colab\"/></a>"
      ]
    },
    {
      "cell_type": "code",
      "execution_count": null,
      "metadata": {
        "id": "-Vbitf35pfKV"
      },
      "outputs": [],
      "source": []
    },
    {
      "cell_type": "markdown",
      "source": [
        "TRABAJO 2 TIC"
      ],
      "metadata": {
        "id": "edWB0Z-MpvYL"
      }
    },
    {
      "cell_type": "code",
      "source": [
        "print (\"Hola, Mundo!\")"
      ],
      "metadata": {
        "colab": {
          "base_uri": "https://localhost:8080/"
        },
        "id": "nDpsEfUjp09d",
        "outputId": "f33f7b5e-eed3-4aad-85f8-febcbd9dc6e3"
      },
      "execution_count": 2,
      "outputs": [
        {
          "output_type": "stream",
          "name": "stdout",
          "text": [
            "Hola, Mundo!\n"
          ]
        }
      ]
    },
    {
      "cell_type": "code",
      "source": [
        "num1 = int(input(\"Ingrese un numero\"))\n",
        "num2 = int(input(\"Ingrese el segundo numero\"))\n",
        "\n",
        "num3 = num1 + num2\n",
        "\n",
        "print(num3)"
      ],
      "metadata": {
        "colab": {
          "base_uri": "https://localhost:8080/"
        },
        "id": "p15ZXcXLqeNq",
        "outputId": "e1c22667-dbfe-46bb-bee4-e4765bda6f9b"
      },
      "execution_count": 3,
      "outputs": [
        {
          "output_type": "stream",
          "name": "stdout",
          "text": [
            "Ingrese un numero2\n",
            "Ingrese el segundo numero6\n",
            "8\n"
          ]
        }
      ]
    },
    {
      "cell_type": "code",
      "source": [
        "num1 = int(input(\"Ingrese un numero\"))\n",
        "\n",
        "if num1 % 2 == 0:\n",
        "  print(\"El numero es par \")\n",
        "else:\n",
        "  print(\"El numeo es impar \")"
      ],
      "metadata": {
        "colab": {
          "base_uri": "https://localhost:8080/"
        },
        "id": "5oxXIKAqq6oT",
        "outputId": "8a2d438e-2e81-4a32-f278-5d1ca5d72e78"
      },
      "execution_count": 9,
      "outputs": [
        {
          "output_type": "stream",
          "name": "stdout",
          "text": [
            "Ingrese un numero3\n",
            "El numeo es impar\n"
          ]
        }
      ]
    },
    {
      "cell_type": "code",
      "source": [
        "num1 = int(input(\"Ingrese un numero \"))\n",
        "num2 = int(input(\"Ingrese el segundo numero \"))\n",
        "\n",
        "print(\"Ingrese la operaciòn que desee realizar\")\n",
        "print(\"1, suma\")\n",
        "print(\"2, resta\")\n",
        "print(\"3, multiplicacion\")\n",
        "print(\"4, division\")\n",
        "\n",
        "operacion = input(\"Ingresa la opcion de la operacion \")\n",
        "\n",
        "if operacion == \"1\":\n",
        "  resultado = num1 + num2\n",
        "  print(f\"La suma total de {num1} y {num2} es igual a {resultado} \")\n",
        "elif operacion == \"2\":\n",
        "  resultado = num1 - num2\n",
        "  print(f\"La resta total de {num1} y {num2} es igual a {resultado} \")\n",
        "elif operacion == \"3\":\n",
        "  resultado = num1 * num2\n",
        "  print(f\"La multiplicacion total de {num1} y {num2} es igual a {resultado} \")\n",
        "elif operacion == \"4\":\n",
        "  resultado = num1 / num2\n",
        "  print(f\"La division total de {num1} y {num2} es igual a {resultado} \")\n",
        "else:\n",
        "  print(\"Introducir un valor valido\")\n",
        ""
      ],
      "metadata": {
        "colab": {
          "base_uri": "https://localhost:8080/"
        },
        "id": "9bQwLJghrzCa",
        "outputId": "6ccd4410-b78e-473f-c7e2-d72a7b59b942"
      },
      "execution_count": 21,
      "outputs": [
        {
          "output_type": "stream",
          "name": "stdout",
          "text": [
            "Ingrese un numero 4\n",
            "Ingrese el segundo numero 4\n",
            "Ingrese la operaciòn que desee realizar\n",
            "1, suma\n",
            "2, resta\n",
            "3, multiplicacion\n",
            "4, division\n",
            "Ingresa la opcion de la operacion 3\n",
            "La multiplicacion total de 4 y 4 es igual a 16 \n"
          ]
        }
      ]
    },
    {
      "cell_type": "code",
      "source": [
        "radio = int(input(\"Ingrese el valor del radio\"))\n",
        "\n",
        "area = 3.1416 * radio**2\n",
        "\n",
        "print(\"El radio del circulo es\", area)"
      ],
      "metadata": {
        "colab": {
          "base_uri": "https://localhost:8080/"
        },
        "id": "4lZ2J86EubrR",
        "outputId": "cb62080d-70e8-4202-b84e-e7535cb37061"
      },
      "execution_count": 25,
      "outputs": [
        {
          "output_type": "stream",
          "name": "stdout",
          "text": [
            "Ingrese el valor del radio2\n",
            "El radio del circulo es 12.5664\n"
          ]
        }
      ]
    },
    {
      "cell_type": "code",
      "source": [
        "celcius = int(input(\"Introduzca un valor de temperatura Celcius\"))\n",
        "\n",
        "fahrenheit = (celcius * 9/5) + 32\n",
        "\n",
        "print(f\"los grados celcius {celcius} transformados en fahrenheit son {fahrenheit}\")"
      ],
      "metadata": {
        "colab": {
          "base_uri": "https://localhost:8080/"
        },
        "id": "dZpPCmc0vNN_",
        "outputId": "e9781f7a-c7b2-49bc-993f-c51f79da6abb"
      },
      "execution_count": 34,
      "outputs": [
        {
          "output_type": "stream",
          "name": "stdout",
          "text": [
            "Introduzca un valor de temperatura Celcius4\n",
            "los grados celcius 4 transformados en fahrenheit son 39.2\n"
          ]
        }
      ]
    },
    {
      "cell_type": "code",
      "source": [
        "lista = [0,1,2,3,4,5,6,7,8,9,10]\n",
        "\n",
        "print(lista [::-1])"
      ],
      "metadata": {
        "colab": {
          "base_uri": "https://localhost:8080/"
        },
        "id": "r9I4qEnLvfeG",
        "outputId": "49e3efb9-5378-4e43-ecda-e4841f3caa21"
      },
      "execution_count": 31,
      "outputs": [
        {
          "output_type": "stream",
          "name": "stdout",
          "text": [
            "[10, 9, 8, 7, 6, 5, 4, 3, 2, 1, 0]\n"
          ]
        }
      ]
    }
  ]
}