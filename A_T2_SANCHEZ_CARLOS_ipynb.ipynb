{
  "nbformat": 4,
  "nbformat_minor": 0,
  "metadata": {
    "colab": {
      "provenance": [],
      "authorship_tag": "ABX9TyPnkrfyVh8N9AiL4LcXmV7f",
      "include_colab_link": true
    },
    "kernelspec": {
      "name": "python3",
      "display_name": "Python 3"
    },
    "language_info": {
      "name": "python"
    }
  },
  "cells": [
    {
      "cell_type": "markdown",
      "metadata": {
        "id": "view-in-github",
        "colab_type": "text"
      },
      "source": [
        "<a href=\"https://colab.research.google.com/github/Parukc/hola-mundo/blob/main/A_T2_SANCHEZ_CARLOS_ipynb.ipynb\" target=\"_parent\"><img src=\"https://colab.research.google.com/assets/colab-badge.svg\" alt=\"Open In Colab\"/></a>"
      ]
    },
    {
      "cell_type": "code",
      "execution_count": null,
      "metadata": {
        "id": "-Vbitf35pfKV"
      },
      "outputs": [],
      "source": []
    },
    {
      "cell_type": "markdown",
      "source": [
        "TRABAJO 2 TIC"
      ],
      "metadata": {
        "id": "edWB0Z-MpvYL"
      }
    },
    {
      "cell_type": "code",
      "source": [
        "#Ejercicio 1: Escribe un programa que imprima \"Hola, Mundo!\" en la pantalla.\n",
        "print (\"Hola, Mundo!\")"
      ],
      "metadata": {
        "colab": {
          "base_uri": "https://localhost:8080/"
        },
        "id": "nDpsEfUjp09d",
        "outputId": "f33f7b5e-eed3-4aad-85f8-febcbd9dc6e3"
      },
      "execution_count": null,
      "outputs": [
        {
          "output_type": "stream",
          "name": "stdout",
          "text": [
            "Hola, Mundo!\n"
          ]
        }
      ]
    },
    {
      "cell_type": "code",
      "source": [
        "#Ejercicio 2:  Escribe un programa que pida al usuario dos números y los sume.\n",
        "num1 = int(input(\"Ingrese un numero\"))\n",
        "num2 = int(input(\"Ingrese el segundo numero\"))\n",
        "\n",
        "num3 = num1 + num2\n",
        "\n",
        "print(num3)"
      ],
      "metadata": {
        "colab": {
          "base_uri": "https://localhost:8080/"
        },
        "id": "p15ZXcXLqeNq",
        "outputId": "e1c22667-dbfe-46bb-bee4-e4765bda6f9b"
      },
      "execution_count": null,
      "outputs": [
        {
          "output_type": "stream",
          "name": "stdout",
          "text": [
            "Ingrese un numero2\n",
            "Ingrese el segundo numero6\n",
            "8\n"
          ]
        }
      ]
    },
    {
      "cell_type": "code",
      "source": [
        "#Ejercicio 3: Escribe un programa que determine si un número introducido por el usuario es par o impar\n",
        "num1 = int(input(\"Ingrese un numero\"))\n",
        "\n",
        "if num1 % 2 == 0:\n",
        "  print(\"El numero es par \")\n",
        "else:\n",
        "  print(\"El numeo es impar \")"
      ],
      "metadata": {
        "colab": {
          "base_uri": "https://localhost:8080/"
        },
        "id": "5oxXIKAqq6oT",
        "outputId": "8a2d438e-2e81-4a32-f278-5d1ca5d72e78"
      },
      "execution_count": null,
      "outputs": [
        {
          "output_type": "stream",
          "name": "stdout",
          "text": [
            "Ingrese un numero3\n",
            "El numeo es impar\n"
          ]
        }
      ]
    },
    {
      "cell_type": "code",
      "source": [
        "#Ejercicio 4: Escribe un programa que realice operaciones básicas (suma, resta, multiplicación y división) entre dos números introducidos por el usuario\n",
        "num1 = int(input(\"Ingrese un numero \"))\n",
        "num2 = int(input(\"Ingrese el segundo numero \"))\n",
        "\n",
        "print(\"Ingrese la operaciòn que desee realizar\")\n",
        "print(\"1, suma\")\n",
        "print(\"2, resta\")\n",
        "print(\"3, multiplicacion\")\n",
        "print(\"4, division\")\n",
        "\n",
        "operacion = input(\"Ingresa la opcion de la operacion \")\n",
        "\n",
        "if operacion == \"1\":\n",
        "  resultado = num1 + num2\n",
        "  print(f\"La suma total de {num1} y {num2} es igual a {resultado} \")\n",
        "elif operacion == \"2\":\n",
        "  resultado = num1 - num2\n",
        "  print(f\"La resta total de {num1} y {num2} es igual a {resultado} \")\n",
        "elif operacion == \"3\":\n",
        "  resultado = num1 * num2\n",
        "  print(f\"La multiplicacion total de {num1} y {num2} es igual a {resultado} \")\n",
        "elif operacion == \"4\":\n",
        "  resultado = num1 / num2\n",
        "  print(f\"La division total de {num1} y {num2} es igual a {resultado} \")\n",
        "else:\n",
        "  print(\"Introducir un valor valido\")\n"
      ],
      "metadata": {
        "colab": {
          "base_uri": "https://localhost:8080/"
        },
        "id": "9bQwLJghrzCa",
        "outputId": "6ccd4410-b78e-473f-c7e2-d72a7b59b942"
      },
      "execution_count": null,
      "outputs": [
        {
          "output_type": "stream",
          "name": "stdout",
          "text": [
            "Ingrese un numero 4\n",
            "Ingrese el segundo numero 4\n",
            "Ingrese la operaciòn que desee realizar\n",
            "1, suma\n",
            "2, resta\n",
            "3, multiplicacion\n",
            "4, division\n",
            "Ingresa la opcion de la operacion 3\n",
            "La multiplicacion total de 4 y 4 es igual a 16 \n"
          ]
        }
      ]
    },
    {
      "cell_type": "code",
      "source": [
        "#Ejercicio 5: Escribe un programa que pida tres números al usuario y determine cuál es el mayor.\n",
        "\n",
        "num1 = int(input(\"Introduce el primer número: \"))\n",
        "num2 = int(input(\"Introduce el segundo número: \"))\n",
        "num3 = int(input(\"Introduce el tercer número: \"))\n",
        "\n",
        "mayor = num1\n",
        "\n",
        "if num2 > mayor:\n",
        "    mayor = num2\n",
        "\n",
        "if num3 > mayor:\n",
        "    mayor = num3\n",
        "\n",
        "print(f\"El número mayor es: {mayor}\")"
      ],
      "metadata": {
        "colab": {
          "base_uri": "https://localhost:8080/"
        },
        "id": "CpsH6qSWBaAa",
        "outputId": "4a9fba34-953f-4992-9ed4-58bbed6a6532"
      },
      "execution_count": 18,
      "outputs": [
        {
          "output_type": "stream",
          "name": "stdout",
          "text": [
            "Introduce el primer número: 3\n",
            "Introduce el segundo número: 4\n",
            "Introduce el tercer número: 5\n",
            "El número mayor es: 5\n"
          ]
        }
      ]
    },
    {
      "cell_type": "code",
      "source": [
        "#Ejercicio 6: Escribe un programa que calcule el área de un círculo a partir de su radio, ingresado por el usuario.\n",
        "radio = int(input(\"Ingrese el valor del radio\"))\n",
        "\n",
        "area = 3.1416 * radio**2\n",
        "\n",
        "print(\"El radio del circulo es\", area)"
      ],
      "metadata": {
        "colab": {
          "base_uri": "https://localhost:8080/"
        },
        "id": "4lZ2J86EubrR",
        "outputId": "cb62080d-70e8-4202-b84e-e7535cb37061"
      },
      "execution_count": null,
      "outputs": [
        {
          "output_type": "stream",
          "name": "stdout",
          "text": [
            "Ingrese el valor del radio2\n",
            "El radio del circulo es 12.5664\n"
          ]
        }
      ]
    },
    {
      "cell_type": "code",
      "source": [
        "#Ejercicio 7: Escribe un programa que convierta una temperatura dada en grados Celsius a grados Fahrenheit.\n",
        "celcius = int(input(\"Introduzca un valor de temperatura Celcius\"))\n",
        "\n",
        "fahrenheit = (celcius * 9/5) + 32\n",
        "\n",
        "print(f\"los grados celcius {celcius} transformados en fahrenheit son {fahrenheit}\")"
      ],
      "metadata": {
        "colab": {
          "base_uri": "https://localhost:8080/"
        },
        "id": "dZpPCmc0vNN_",
        "outputId": "e9781f7a-c7b2-49bc-993f-c51f79da6abb"
      },
      "execution_count": null,
      "outputs": [
        {
          "output_type": "stream",
          "name": "stdout",
          "text": [
            "Introduzca un valor de temperatura Celcius4\n",
            "los grados celcius 4 transformados en fahrenheit son 39.2\n"
          ]
        }
      ]
    },
    {
      "cell_type": "code",
      "source": [
        "#Ejercicio 8: Escribe un programa que cuente hacia atrás desde 10 hasta 0.\n",
        "lista = [0,1,2,3,4,5,6,7,8,9,10]\n",
        "\n",
        "print(lista [::-1])"
      ],
      "metadata": {
        "colab": {
          "base_uri": "https://localhost:8080/"
        },
        "id": "r9I4qEnLvfeG",
        "outputId": "49e3efb9-5378-4e43-ecda-e4841f3caa21"
      },
      "execution_count": null,
      "outputs": [
        {
          "output_type": "stream",
          "name": "stdout",
          "text": [
            "[10, 9, 8, 7, 6, 5, 4, 3, 2, 1, 0]\n"
          ]
        }
      ]
    },
    {
      "cell_type": "code",
      "source": [
        "#Ejercicio 9: Escribe un programa que muestre la tabla de multiplicar de un número introducido por el usuario.\n",
        "numero_ingresado_usuario = int(input(\"Ingrese un numero \"))\n",
        "print(\"la tabla del\", numero_ingresado_usuario)\n",
        "for i in range(1, 11):\n",
        "  resultado = numero_ingresado_usuario * i\n",
        "  print(f\"{numero_ingresado_usuario} x {i} = {resultado}\")"
      ],
      "metadata": {
        "colab": {
          "base_uri": "https://localhost:8080/"
        },
        "id": "ScXIjtu30E3h",
        "outputId": "64bd0fc9-02d2-4100-e45d-6fa3d95ce6b2"
      },
      "execution_count": 10,
      "outputs": [
        {
          "output_type": "stream",
          "name": "stdout",
          "text": [
            "Ingrese un numero 3\n",
            "la tabla del 3\n",
            "3 x 1 = 3\n",
            "3 x 2 = 6\n",
            "3 x 3 = 9\n",
            "3 x 4 = 12\n",
            "3 x 5 = 15\n",
            "3 x 6 = 18\n",
            "3 x 7 = 21\n",
            "3 x 8 = 24\n",
            "3 x 9 = 27\n",
            "3 x 10 = 30\n"
          ]
        }
      ]
    },
    {
      "cell_type": "code",
      "source": [
        "#Ejercicio 10: Escribe un programa que determine si un número introducido por el usuario es primo.\n",
        "num = int(input(\"Introduce un número: \"))\n",
        "primo = True\n",
        "for i in range(2, num):\n",
        "    if num % i == 0:\n",
        "        primo = False\n",
        "        break\n",
        "if primo:\n",
        "    print(f\"El número {num} es primo.\")\n",
        "else:\n",
        "    print(f\"El número {num} no es primo.\")"
      ],
      "metadata": {
        "colab": {
          "base_uri": "https://localhost:8080/"
        },
        "id": "rPVCn6-88Jj7",
        "outputId": "b906035e-5c93-4e24-c7f9-2afccd50b5b6"
      },
      "execution_count": 12,
      "outputs": [
        {
          "output_type": "stream",
          "name": "stdout",
          "text": [
            "Introduce un número: 2\n",
            "El número 2 es primo.\n"
          ]
        }
      ]
    },
    {
      "cell_type": "code",
      "source": [
        "#Ejercicio 11: Escribe un programa que sume todos los números naturales hasta un número límite introducido por el usuario.\n",
        "\n",
        "limite = int(input(\"Introduce el número límite: \"))\n",
        "\n",
        "suma = 0\n",
        "for i in range(1, limite + 1):\n",
        "    suma += i\n",
        "\n",
        "print(f\"La suma de los números naturales hasta {limite} es {suma}\")"
      ],
      "metadata": {
        "colab": {
          "base_uri": "https://localhost:8080/"
        },
        "id": "O4HrV-mq_z3o",
        "outputId": "8b17c547-f182-46a7-9ee6-c75df1e637bf"
      },
      "execution_count": 13,
      "outputs": [
        {
          "output_type": "stream",
          "name": "stdout",
          "text": [
            "Introduce el número límite: 4\n",
            "La suma de los números naturales hasta 4 es 10\n"
          ]
        }
      ]
    },
    {
      "cell_type": "code",
      "source": [
        "#Ejercicio 12: Escribe un programa que invierta una cadena introducida por el usuario.\n",
        "\n",
        "cadena = input(\"Introduce una cadena: \")\n",
        "\n",
        "cadena_invertida = \"\"\n",
        "\n",
        "for i in range(len(cadena) - 1, -1, -1):\n",
        "    cadena_invertida += cadena[i]\n",
        "\n",
        "print(f\"La cadena invertida es: {cadena_invertida}\")"
      ],
      "metadata": {
        "id": "hrBYIMSA__ju"
      },
      "execution_count": null,
      "outputs": []
    },
    {
      "cell_type": "code",
      "source": [
        "#Ejercicio 13: Escribe un programa que cuente el número de vocales en una cadena introducida por el usuario.\n",
        "\n",
        "cadena = input(\"Introduce una cadena: \")\n",
        "vocales = 0\n",
        "for letra in cadena:\n",
        "    if letra in \"aeiouAEIOU\":\n",
        "        vocales += 1\n",
        "print(f\"La cadena tiene {vocales} vocales.\")\n"
      ],
      "metadata": {
        "colab": {
          "base_uri": "https://localhost:8080/"
        },
        "id": "erNiyoXtCGqc",
        "outputId": "a2b6a255-d867-4fe3-ee0d-e300fa9331cb"
      },
      "execution_count": 19,
      "outputs": [
        {
          "output_type": "stream",
          "name": "stdout",
          "text": [
            "Introduce una cadena: como estas\n",
            "La cadena tiene 4 vocales.\n"
          ]
        }
      ]
    },
    {
      "cell_type": "code",
      "source": [
        "#Ejercicio 14: Escribe un programa que determine si una cadena introducida por el usuario es un palíndromo.\n",
        "\n",
        "cadena = input(\"Introduce una cadena: \")\n",
        "es_palindromo = True\n",
        "for i in range(len(cadena) // 2):\n",
        "    if cadena[i] != cadena[len(cadena) - i - 1]:\n",
        "        es_palindromo = False\n",
        "        break\n",
        "if es_palindromo:\n",
        "    print(f\"La cadena {cadena} es un palíndromo.\")\n",
        "else:\n",
        "    print(f\"La cadena {cadena} no es un palíndromo.\")"
      ],
      "metadata": {
        "colab": {
          "base_uri": "https://localhost:8080/"
        },
        "id": "gaI9r0z_CreN",
        "outputId": "199ead5f-97cb-4a38-b9a6-9d0efab0c844"
      },
      "execution_count": 21,
      "outputs": [
        {
          "output_type": "stream",
          "name": "stdout",
          "text": [
            "Introduce una cadena: coca\n",
            "La cadena coca no es un palíndromo.\n"
          ]
        }
      ]
    },
    {
      "cell_type": "code",
      "source": [
        "#Ejercicio 15: Escribe un programa que calcule el factorial de un número introducido por el usuario.\n",
        "\n",
        "num = int(input(\"Introduce un número: \"))\n",
        "\n",
        "factorial = 1\n",
        "for i in range(1, num + 1):\n",
        "    factorial *= i\n",
        "\n",
        "print(f\"El factorial de {num} es {factorial}\")"
      ],
      "metadata": {
        "colab": {
          "base_uri": "https://localhost:8080/"
        },
        "id": "oIBQiz_aEYPQ",
        "outputId": "bff569f5-9a42-4388-ee5b-8ac38fd0c5e1"
      },
      "execution_count": 22,
      "outputs": [
        {
          "output_type": "stream",
          "name": "stdout",
          "text": [
            "Introduce un número: 5\n",
            "El factorial de 5 es 120\n"
          ]
        }
      ]
    },
    {
      "cell_type": "code",
      "source": [
        "#Ejercicio 16: Escribe un programa que genere y muestre 5 números aleatorios entre 1 y 100.\n",
        "\n",
        "import random\n",
        "for i in range(5):\n",
        "  print(random.randint(1, 100))\n"
      ],
      "metadata": {
        "colab": {
          "base_uri": "https://localhost:8080/"
        },
        "id": "Uc1ne_9MExQE",
        "outputId": "22b8a5b7-2681-4262-c4c3-0f18787ca9b6"
      },
      "execution_count": 24,
      "outputs": [
        {
          "output_type": "stream",
          "name": "stdout",
          "text": [
            "66\n",
            "30\n",
            "64\n",
            "68\n",
            "39\n"
          ]
        }
      ]
    },
    {
      "cell_type": "code",
      "source": [
        "#Ejercicio 17: Escribe un programa que calcule el índice de masa corporal (IMC) a partir del peso y la altura introducidos por el usuario.\n",
        "\n",
        "peso = float(input(\"Introduce tu peso en kilogramos: \"))\n",
        "altura = float(input(\"Introduce tu altura en metros: \"))\n",
        "\n",
        "imc = peso / (altura * altura)\n",
        "\n",
        "if imc < 18.5:\n",
        "    print(f\"Tu IMC es {imc:.2f}. Tienes bajo peso.\")\n",
        "elif 18.5 <= imc < 25:\n",
        "    print(f\"Tu IMC es {imc:.2f}. Tienes un peso normal.\")\n",
        "elif 25 <= imc < 30:\n",
        "    print(f\"Tu IMC es {imc:.2f}. Tienes sobrepeso.\")\n",
        "else:\n",
        "    print(f\"Tu IMC es {imc:.2f}. Tienes obesidad.\")"
      ],
      "metadata": {
        "colab": {
          "base_uri": "https://localhost:8080/"
        },
        "id": "NOY4OvoHFFXD",
        "outputId": "9ab248e6-f234-4e26-fff7-c8f31e779ac7"
      },
      "execution_count": 30,
      "outputs": [
        {
          "output_type": "stream",
          "name": "stdout",
          "text": [
            "Introduce tu peso en kilogramos: 20\n",
            "Introduce tu altura en metros: 170\n",
            "Tu IMC es 0.00. Tienes bajo peso.\n"
          ]
        }
      ]
    }
  ]
}